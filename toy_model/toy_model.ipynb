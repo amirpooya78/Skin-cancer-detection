{
 "cells": [
  {
   "cell_type": "markdown",
   "metadata": {},
   "source": [
    "## Code"
   ]
  },
  {
   "cell_type": "code",
   "execution_count": 165,
   "metadata": {},
   "outputs": [],
   "source": [
    "import os\n",
    "\n",
    "import pandas as pd\n",
    "import numpy as np\n",
    "\n",
    "from sklearn.model_selection import train_test_split\n",
    "from sklearn.metrics import classification_report, confusion_matrix\n",
    "\n",
    "import matplotlib.pyplot as plt\n",
    "import random\n",
    "\n",
    "import seaborn as sns\n",
    "\n",
    "import tensorflow as tf\n",
    "from tensorflow.keras.models import Sequential\n",
    "from tensorflow.keras.layers import Conv2D, MaxPooling2D, Dense, Flatten, Dropout, Input\n",
    "from tensorflow.keras.utils import to_categorical\n",
    "from tensorflow.keras.metrics import Recall"
   ]
  },
  {
   "cell_type": "markdown",
   "metadata": {},
   "source": [
    "### Read data from .csv and prepare it for training"
   ]
  },
  {
   "cell_type": "code",
   "execution_count": null,
   "metadata": {},
   "outputs": [],
   "source": [
    "# Data variables\n",
    "TEST_SIZE = 0.3  # percentage split of training and test data\n",
    "RANDOM_STATE = 666  # random state for reproducible results\n",
    "INPUT_SIZE = (28, 28, 3)  # shape of the input images\n",
    "NUM_CLASSES = 7  # number of multi-class labels"
   ]
  },
  {
   "cell_type": "code",
   "execution_count": null,
   "metadata": {},
   "outputs": [],
   "source": [
    "# Read image data from csv file into a DataFrame\n",
    "# TODO: this should read from the SQLite DB instead\n",
    "image_data_df = pd.read_csv(\"hmnist_28_28_RGB.csv\", sep=\",\")\n",
    "\n",
    "# Convert dataFrame to numpy array with float values\n",
    "image_data = np.array(image_data_df, dtype=\"float32\")\n",
    "\n",
    "# Split the data into pixel values and target labels\n",
    "# Normalize the pixel data by dividing by the range (255)\n",
    "# NOTE: decide if normalization should instead be part of the ML pipline pre-processing\n",
    "X = image_data[:, :-1] / 255  # all columns except the last one\n",
    "y = image_data[:, -1]  # only the last column (label)"
   ]
  },
  {
   "cell_type": "code",
   "execution_count": null,
   "metadata": {},
   "outputs": [],
   "source": [
    "# Split image data into training, validation, and testing datasets\n",
    "# We use a stratified split on the y-label in order to ensure a balanced distribution of labels across all subsets\n",
    "# https://en.wikipedia.org/wiki/Stratified_sampling\n",
    "# https://stackoverflow.com/questions/61885259/using-sklearn-train-test-split-for-imbalanced-data\n",
    "# https://scikit-learn.org/stable/modules/cross_validation.html#stratification\n",
    "X_train, X_val, y_train, y_val = train_test_split(\n",
    "    X, y, stratify=y, test_size=TEST_SIZE, random_state=RANDOM_STATE\n",
    ")\n",
    "\n",
    "# NOTE: this code assumes an even split between evaluation and test data\n",
    "X_val, X_test, y_val, y_test = train_test_split(\n",
    "    X_val, y_val, stratify=y_val, test_size=0.5, random_state=RANDOM_STATE\n",
    ")"
   ]
  },
  {
   "cell_type": "code",
   "execution_count": null,
   "metadata": {},
   "outputs": [
    {
     "name": "stdout",
     "output_type": "stream",
     "text": [
      "X_train: (7010, 2352), y_train: (7010,)\n",
      "X_val:   (1502, 2352), y_val:   (1502,)\n",
      "X_test:  (1503, 2352), y_test:  (1503,)\n"
     ]
    }
   ],
   "source": [
    "# Verify the shapes of the resulting datasets\n",
    "print(f\"X_train: {X_train.shape}, y_train: {y_train.shape}\")\n",
    "print(f\"X_val:   {X_val.shape}, y_val:   {y_val.shape}\")\n",
    "print(f\"X_test:  {X_test.shape}, y_test:  {y_test.shape}\")"
   ]
  },
  {
   "cell_type": "code",
   "execution_count": null,
   "metadata": {},
   "outputs": [],
   "source": [
    "# Reshape the data into the form that the CNN accepts\n",
    "# NOTE: we use * notation to unpack the second argument that is a tuple\n",
    "X_train = X_train.reshape(X_train.shape[0], *INPUT_SIZE)\n",
    "X_val = X_val.reshape(X_val.shape[0], *INPUT_SIZE)\n",
    "X_test = X_test.reshape(X_test.shape[0], *INPUT_SIZE)"
   ]
  },
  {
   "cell_type": "code",
   "execution_count": 113,
   "metadata": {},
   "outputs": [
    {
     "name": "stdout",
     "output_type": "stream",
     "text": [
      "X_train: (7010, 28, 28, 3)\n",
      "X_val:   (1502, 28, 28, 3)\n",
      "X_test:  (1503, 28, 28, 3)\n"
     ]
    }
   ],
   "source": [
    "# Check the reshaped datasets\n",
    "print(f\"X_train: {X_train.shape}\")\n",
    "print(f\"X_val:   {X_val.shape}\")\n",
    "print(f\"X_test:  {X_test.shape}\")"
   ]
  },
  {
   "cell_type": "code",
   "execution_count": null,
   "metadata": {},
   "outputs": [],
   "source": [
    "# Convert integer target labels to categorical format for better model performance\n",
    "y_train_cat = to_categorical(y_train, num_classes=NUM_CLASSES)\n",
    "y_val_cat = to_categorical(y_val, num_classes=NUM_CLASSES)\n",
    "y_test_cat = to_categorical(y_test, num_classes=NUM_CLASSES)"
   ]
  },
  {
   "cell_type": "markdown",
   "metadata": {},
   "source": [
    "#### Optional: check out the gore"
   ]
  },
  {
   "cell_type": "code",
   "execution_count": null,
   "metadata": {},
   "outputs": [
    {
     "data": {
      "image/png": "[encoded data removed]",
      "text/plain": [
       "<Figure size 500x500 with 1 Axes>"
      ]
     },
     "metadata": {},
     "output_type": "display_data"
    }
   ],
   "source": [
    "# Choose a random index\n",
    "index = random.randint(0, len(X_train) - 1)\n",
    "\n",
    "# Extract the image\n",
    "image = X_train[index]\n",
    "\n",
    "# Plot the image\n",
    "plt.figure(figsize=(5, 5))\n",
    "plt.imshow(image)\n",
    "plt.axis(\"off\")\n",
    "plt.title(f\"Example Image (Index: {index})\")\n",
    "plt.show()"
   ]
  },
  {
   "cell_type": "markdown",
   "metadata": {},
   "source": [
    "### CNN Model (training)"
   ]
  },
  {
   "cell_type": "code",
   "execution_count": null,
   "metadata": {},
   "outputs": [],
   "source": [
    "# Model variables\n",
    "NUM_FILTERS = 20\n",
    "FILTER_SIZE = (3, 3)  # tuple since the input images have 3 layers (RGB)\n",
    "\n",
    "POOL_SIZE = 2\n",
    "STRIDE = 1\n",
    "\n",
    "DROPOUT_RATE = 0\n",
    "\n",
    "OUTPUT_DIM = 7\n",
    "\n",
    "CONV_ACTIVATION = \"relu\"\n",
    "DENSE_ACTIVATION = \"softmax\"\n",
    "\n",
    "OPTIMIZER = \"adam\"  # we can replace this with tf.keras.optimizers.Adam() to modify parameters such as learning rate\n",
    "# https://www.tensorflow.org/api_docs/python/tf/keras/optimizers/Adam\n",
    "LOSS_FUNCTION = \"categorical_crossentropy\"  # Used for multi-class classification with categorical target labels (one-hot)\n",
    "\n",
    "NUM_EPOCHS = 5\n",
    "BATCH_SIZE = 1"
   ]
  },
  {
   "cell_type": "code",
   "execution_count": null,
   "metadata": {},
   "outputs": [
    {
     "name": "stdout",
     "output_type": "stream",
     "text": [
      "Epoch 1/5\n",
      "\u001b[1m7010/7010\u001b[0m \u001b[32m━━━━━━━━━━━━━━━━━━━━\u001b[0m\u001b[37m\u001b[0m \u001b[1m74s\u001b[0m 10ms/step - accuracy: 0.6652 - loss: 1.0696 - recall: 0.5216 - val_accuracy: 0.6671 - val_loss: 0.9457 - val_recall: 0.5919\n",
      "Epoch 2/5\n",
      "\u001b[1m7010/7010\u001b[0m \u001b[32m━━━━━━━━━━━━━━━━━━━━\u001b[0m\u001b[37m\u001b[0m \u001b[1m66s\u001b[0m 9ms/step - accuracy: 0.6775 - loss: 0.9069 - recall: 0.5667 - val_accuracy: 0.6831 - val_loss: 0.8750 - val_recall: 0.5679\n",
      "Epoch 3/5\n",
      "\u001b[1m7010/7010\u001b[0m \u001b[32m━━━━━━━━━━━━━━━━━━━━\u001b[0m\u001b[37m\u001b[0m \u001b[1m77s\u001b[0m 11ms/step - accuracy: 0.6851 - loss: 0.8701 - recall: 0.5815 - val_accuracy: 0.6625 - val_loss: 0.9867 - val_recall: 0.4734\n",
      "Epoch 4/5\n",
      "\u001b[1m7010/7010\u001b[0m \u001b[32m━━━━━━━━━━━━━━━━━━━━\u001b[0m\u001b[37m\u001b[0m \u001b[1m78s\u001b[0m 11ms/step - accuracy: 0.6874 - loss: 0.8522 - recall: 0.5833 - val_accuracy: 0.6651 - val_loss: 0.8961 - val_recall: 0.5879\n",
      "Epoch 5/5\n",
      "\u001b[1m7010/7010\u001b[0m \u001b[32m━━━━━━━━━━━━━━━━━━━━\u001b[0m\u001b[37m\u001b[0m \u001b[1m78s\u001b[0m 11ms/step - accuracy: 0.7023 - loss: 0.8129 - recall: 0.6106 - val_accuracy: 0.6718 - val_loss: 0.9003 - val_recall: 0.5799\n"
     ]
    },
    {
     "data": {
      "text/plain": [
       "<keras.src.callbacks.history.History at 0x7fac7795c450>"
      ]
     },
     "execution_count": 146,
     "metadata": {},
     "output_type": "execute_result"
    }
   ],
   "source": [
    "# Create the CNN model\n",
    "model = Sequential(\n",
    "    [\n",
    "        Input(INPUT_SIZE),\n",
    "        Conv2D(NUM_FILTERS, FILTER_SIZE, activation=CONV_ACTIVATION),\n",
    "        MaxPooling2D(POOL_SIZE, STRIDE),\n",
    "        Dropout(DROPOUT_RATE),\n",
    "        Flatten(),\n",
    "        Dense(OUTPUT_DIM, DENSE_ACTIVATION),\n",
    "    ]\n",
    ")\n",
    "\n",
    "model.compile(\n",
    "    OPTIMIZER,\n",
    "    loss=LOSS_FUNCTION,\n",
    "    metrics=[\"accuracy\", \"recall\"],  # include monitoring of recall rate\n",
    ")\n",
    "\n",
    "# NOTE: we are using the categorical target matrices here\n",
    "model.fit(\n",
    "    X_train,\n",
    "    y_train_cat,\n",
    "    epochs=NUM_EPOCHS,\n",
    "    batch_size=BATCH_SIZE,\n",
    "    validation_data=(X_val, y_val_cat),\n",
    ")"
   ]
  },
  {
   "cell_type": "markdown",
   "metadata": {},
   "source": [
    "### Model evaluation"
   ]
  },
  {
   "cell_type": "code",
   "execution_count": null,
   "metadata": {},
   "outputs": [
    {
     "name": "stdout",
     "output_type": "stream",
     "text": [
      "\u001b[1m47/47\u001b[0m \u001b[32m━━━━━━━━━━━━━━━━━━━━\u001b[0m\u001b[37m\u001b[0m \u001b[1m1s\u001b[0m 10ms/step\n",
      "\u001b[1m47/47\u001b[0m \u001b[32m━━━━━━━━━━━━━━━━━━━━\u001b[0m\u001b[37m\u001b[0m \u001b[1m2s\u001b[0m 24ms/step - accuracy: 0.6712 - loss: 0.9047 - recall: 0.5667\n",
      "Loss: 0.8749653100967407\n",
      "Accuracy: 0.6859614253044128\n",
      "Recall: 0.5768463015556335\n"
     ]
    }
   ],
   "source": [
    "# Make prediction on testing data\n",
    "y_predicted = model.predict(X_test)\n",
    "\n",
    "# Extract the predicted classes\n",
    "# \"In a two-dimensional vector, the elements of axis 0 are rows and the elements of axis 1 are columns.\"\n",
    "# https://numpy.org/doc/2.1/glossary.html#term-axis\n",
    "predicted_classes = np.argmax(y_predicted, axis=1)\n",
    "\n",
    "# Evaluate model performance\n",
    "test_loss, test_accuracy, test_recall = model.evaluate(X_test, y_test_cat)\n",
    "\n",
    "print(f\"Loss: {test_loss}\")\n",
    "print(f\"Accuracy: {test_accuracy}\")\n",
    "print(f\"Recall: {test_recall}\")"
   ]
  },
  {
   "cell_type": "code",
   "execution_count": 158,
   "metadata": {},
   "outputs": [
    {
     "name": "stdout",
     "output_type": "stream",
     "text": [
      "              precision    recall  f1-score   support\n",
      "\n",
      "     Class 0       0.10      0.02      0.03        49\n",
      "     Class 1       0.44      0.18      0.26        77\n",
      "     Class 2       0.36      0.16      0.23       165\n",
      "     Class 3       0.00      0.00      0.00        17\n",
      "     Class 4       0.73      0.94      0.82      1006\n",
      "     Class 5       0.62      0.23      0.33        22\n",
      "     Class 6       0.45      0.26      0.33       167\n",
      "\n",
      "    accuracy                           0.69      1503\n",
      "   macro avg       0.39      0.26      0.29      1503\n",
      "weighted avg       0.62      0.69      0.63      1503\n",
      "\n"
     ]
    },
    {
     "name": "stderr",
     "output_type": "stream",
     "text": [
      "/mnt/c/Users/Erik/Documents/University/Year-3/DIT826-SE-for-AI-Applications/group6/venv/lib/python3.11/site-packages/sklearn/metrics/_classification.py:1531: UndefinedMetricWarning: Precision is ill-defined and being set to 0.0 in labels with no predicted samples. Use `zero_division` parameter to control this behavior.\n",
      "  _warn_prf(average, modifier, f\"{metric.capitalize()} is\", len(result))\n",
      "/mnt/c/Users/Erik/Documents/University/Year-3/DIT826-SE-for-AI-Applications/group6/venv/lib/python3.11/site-packages/sklearn/metrics/_classification.py:1531: UndefinedMetricWarning: Precision is ill-defined and being set to 0.0 in labels with no predicted samples. Use `zero_division` parameter to control this behavior.\n",
      "  _warn_prf(average, modifier, f\"{metric.capitalize()} is\", len(result))\n",
      "/mnt/c/Users/Erik/Documents/University/Year-3/DIT826-SE-for-AI-Applications/group6/venv/lib/python3.11/site-packages/sklearn/metrics/_classification.py:1531: UndefinedMetricWarning: Precision is ill-defined and being set to 0.0 in labels with no predicted samples. Use `zero_division` parameter to control this behavior.\n",
      "  _warn_prf(average, modifier, f\"{metric.capitalize()} is\", len(result))\n"
     ]
    }
   ],
   "source": [
    "# Generate target class names\n",
    "target_names = [\"Class {}\".format(i) for i in range(NUM_CLASSES)]\n",
    "\n",
    "# Print classification report\n",
    "print(classification_report(y_test, predicted_classes, target_names=target_names))"
   ]
  },
  {
   "cell_type": "code",
   "execution_count": 168,
   "metadata": {},
   "outputs": [
    {
     "data": {
      "image/png": "[encoded data removed]",
      "text/plain": [
       "<Figure size 1200x800 with 2 Axes>"
      ]
     },
     "metadata": {},
     "output_type": "display_data"
    }
   ],
   "source": [
    "# Create new plot via pyplot\n",
    "plt.figure(figsize=(12, 8))\n",
    "\n",
    "cm = confusion_matrix(y_test, predicted_classes)\n",
    "# Create the confusion matrix using seaborn heatmap function\n",
    "sns.heatmap(cm, annot=True, cmap='magma', cbar=True, linewidths=1, fmt=\"d\")\n",
    "\n",
    "# Set labels for x and y axis\n",
    "plt.xlabel('Predicted')\n",
    "plt.ylabel('Actual')\n",
    "plt.title('Confusion matrix')\n",
    "\n",
    "# Display\n",
    "plt.show()"
   ]
  },
  {
   "cell_type": "code",
   "execution_count": 167,
   "metadata": {},
   "outputs": [
    {
     "name": "stdout",
     "output_type": "stream",
     "text": [
      "1031.0\n"
     ]
    }
   ],
   "source": [
    "# Sum the diagonal element to get the total true correct values\n",
    "ones = np.identity(cm.shape[0]) # Create an identity matrix to create a mask for the diagonal elements\n",
    "sumOfDiagonalElements = np.sum(cm * ones) # Mask the diagonal elements, and sum the diagonals\n",
    "print(sumOfDiagonalElements)"
   ]
  },
  {
   "cell_type": "markdown",
   "metadata": {},
   "source": [
    "### Save entire model to file\n"
   ]
  },
  {
   "cell_type": "code",
   "execution_count": null,
   "metadata": {},
   "outputs": [
    {
     "data": {
      "text/html": [
       "<pre style=\"white-space:pre;overflow-x:auto;line-height:normal;font-family:Menlo,'DejaVu Sans Mono',consolas,'Courier New',monospace\"><span style=\"font-weight: bold\">Model: \"sequential_5\"</span>\n",
       "</pre>\n"
      ],
      "text/plain": [
       "\u001b[1mModel: \"sequential_5\"\u001b[0m\n"
      ]
     },
     "metadata": {},
     "output_type": "display_data"
    },
    {
     "data": {
      "text/html": [
       "<pre style=\"white-space:pre;overflow-x:auto;line-height:normal;font-family:Menlo,'DejaVu Sans Mono',consolas,'Courier New',monospace\">┏━━━━━━━━━━━━━━━━━━━━━━━━━━━━━━━━━┳━━━━━━━━━━━━━━━━━━━━━━━━┳━━━━━━━━━━━━━━━┓\n",
       "┃<span style=\"font-weight: bold\"> Layer (type)                    </span>┃<span style=\"font-weight: bold\"> Output Shape           </span>┃<span style=\"font-weight: bold\">       Param # </span>┃\n",
       "┡━━━━━━━━━━━━━━━━━━━━━━━━━━━━━━━━━╇━━━━━━━━━━━━━━━━━━━━━━━━╇━━━━━━━━━━━━━━━┩\n",
       "│ conv2d_5 (<span style=\"color: #0087ff; text-decoration-color: #0087ff\">Conv2D</span>)               │ (<span style=\"color: #00d7ff; text-decoration-color: #00d7ff\">None</span>, <span style=\"color: #00af00; text-decoration-color: #00af00\">26</span>, <span style=\"color: #00af00; text-decoration-color: #00af00\">26</span>, <span style=\"color: #00af00; text-decoration-color: #00af00\">20</span>)     │           <span style=\"color: #00af00; text-decoration-color: #00af00\">560</span> │\n",
       "├─────────────────────────────────┼────────────────────────┼───────────────┤\n",
       "│ max_pooling2d_5 (<span style=\"color: #0087ff; text-decoration-color: #0087ff\">MaxPooling2D</span>)  │ (<span style=\"color: #00d7ff; text-decoration-color: #00d7ff\">None</span>, <span style=\"color: #00af00; text-decoration-color: #00af00\">25</span>, <span style=\"color: #00af00; text-decoration-color: #00af00\">25</span>, <span style=\"color: #00af00; text-decoration-color: #00af00\">20</span>)     │             <span style=\"color: #00af00; text-decoration-color: #00af00\">0</span> │\n",
       "├─────────────────────────────────┼────────────────────────┼───────────────┤\n",
       "│ dropout_5 (<span style=\"color: #0087ff; text-decoration-color: #0087ff\">Dropout</span>)             │ (<span style=\"color: #00d7ff; text-decoration-color: #00d7ff\">None</span>, <span style=\"color: #00af00; text-decoration-color: #00af00\">25</span>, <span style=\"color: #00af00; text-decoration-color: #00af00\">25</span>, <span style=\"color: #00af00; text-decoration-color: #00af00\">20</span>)     │             <span style=\"color: #00af00; text-decoration-color: #00af00\">0</span> │\n",
       "├─────────────────────────────────┼────────────────────────┼───────────────┤\n",
       "│ flatten_5 (<span style=\"color: #0087ff; text-decoration-color: #0087ff\">Flatten</span>)             │ (<span style=\"color: #00d7ff; text-decoration-color: #00d7ff\">None</span>, <span style=\"color: #00af00; text-decoration-color: #00af00\">12500</span>)          │             <span style=\"color: #00af00; text-decoration-color: #00af00\">0</span> │\n",
       "├─────────────────────────────────┼────────────────────────┼───────────────┤\n",
       "│ dense_5 (<span style=\"color: #0087ff; text-decoration-color: #0087ff\">Dense</span>)                 │ (<span style=\"color: #00d7ff; text-decoration-color: #00d7ff\">None</span>, <span style=\"color: #00af00; text-decoration-color: #00af00\">7</span>)              │        <span style=\"color: #00af00; text-decoration-color: #00af00\">87,507</span> │\n",
       "└─────────────────────────────────┴────────────────────────┴───────────────┘\n",
       "</pre>\n"
      ],
      "text/plain": [
       "┏━━━━━━━━━━━━━━━━━━━━━━━━━━━━━━━━━┳━━━━━━━━━━━━━━━━━━━━━━━━┳━━━━━━━━━━━━━━━┓\n",
       "┃\u001b[1m \u001b[0m\u001b[1mLayer (type)                   \u001b[0m\u001b[1m \u001b[0m┃\u001b[1m \u001b[0m\u001b[1mOutput Shape          \u001b[0m\u001b[1m \u001b[0m┃\u001b[1m \u001b[0m\u001b[1m      Param #\u001b[0m\u001b[1m \u001b[0m┃\n",
       "┡━━━━━━━━━━━━━━━━━━━━━━━━━━━━━━━━━╇━━━━━━━━━━━━━━━━━━━━━━━━╇━━━━━━━━━━━━━━━┩\n",
       "│ conv2d_5 (\u001b[38;5;33mConv2D\u001b[0m)               │ (\u001b[38;5;45mNone\u001b[0m, \u001b[38;5;34m26\u001b[0m, \u001b[38;5;34m26\u001b[0m, \u001b[38;5;34m20\u001b[0m)     │           \u001b[38;5;34m560\u001b[0m │\n",
       "├─────────────────────────────────┼────────────────────────┼───────────────┤\n",
       "│ max_pooling2d_5 (\u001b[38;5;33mMaxPooling2D\u001b[0m)  │ (\u001b[38;5;45mNone\u001b[0m, \u001b[38;5;34m25\u001b[0m, \u001b[38;5;34m25\u001b[0m, \u001b[38;5;34m20\u001b[0m)     │             \u001b[38;5;34m0\u001b[0m │\n",
       "├─────────────────────────────────┼────────────────────────┼───────────────┤\n",
       "│ dropout_5 (\u001b[38;5;33mDropout\u001b[0m)             │ (\u001b[38;5;45mNone\u001b[0m, \u001b[38;5;34m25\u001b[0m, \u001b[38;5;34m25\u001b[0m, \u001b[38;5;34m20\u001b[0m)     │             \u001b[38;5;34m0\u001b[0m │\n",
       "├─────────────────────────────────┼────────────────────────┼───────────────┤\n",
       "│ flatten_5 (\u001b[38;5;33mFlatten\u001b[0m)             │ (\u001b[38;5;45mNone\u001b[0m, \u001b[38;5;34m12500\u001b[0m)          │             \u001b[38;5;34m0\u001b[0m │\n",
       "├─────────────────────────────────┼────────────────────────┼───────────────┤\n",
       "│ dense_5 (\u001b[38;5;33mDense\u001b[0m)                 │ (\u001b[38;5;45mNone\u001b[0m, \u001b[38;5;34m7\u001b[0m)              │        \u001b[38;5;34m87,507\u001b[0m │\n",
       "└─────────────────────────────────┴────────────────────────┴───────────────┘\n"
      ]
     },
     "metadata": {},
     "output_type": "display_data"
    },
    {
     "data": {
      "text/html": [
       "<pre style=\"white-space:pre;overflow-x:auto;line-height:normal;font-family:Menlo,'DejaVu Sans Mono',consolas,'Courier New',monospace\"><span style=\"font-weight: bold\"> Total params: </span><span style=\"color: #00af00; text-decoration-color: #00af00\">264,203</span> (1.01 MB)\n",
       "</pre>\n"
      ],
      "text/plain": [
       "\u001b[1m Total params: \u001b[0m\u001b[38;5;34m264,203\u001b[0m (1.01 MB)\n"
      ]
     },
     "metadata": {},
     "output_type": "display_data"
    },
    {
     "data": {
      "text/html": [
       "<pre style=\"white-space:pre;overflow-x:auto;line-height:normal;font-family:Menlo,'DejaVu Sans Mono',consolas,'Courier New',monospace\"><span style=\"font-weight: bold\"> Trainable params: </span><span style=\"color: #00af00; text-decoration-color: #00af00\">88,067</span> (344.01 KB)\n",
       "</pre>\n"
      ],
      "text/plain": [
       "\u001b[1m Trainable params: \u001b[0m\u001b[38;5;34m88,067\u001b[0m (344.01 KB)\n"
      ]
     },
     "metadata": {},
     "output_type": "display_data"
    },
    {
     "data": {
      "text/html": [
       "<pre style=\"white-space:pre;overflow-x:auto;line-height:normal;font-family:Menlo,'DejaVu Sans Mono',consolas,'Courier New',monospace\"><span style=\"font-weight: bold\"> Non-trainable params: </span><span style=\"color: #00af00; text-decoration-color: #00af00\">0</span> (0.00 B)\n",
       "</pre>\n"
      ],
      "text/plain": [
       "\u001b[1m Non-trainable params: \u001b[0m\u001b[38;5;34m0\u001b[0m (0.00 B)\n"
      ]
     },
     "metadata": {},
     "output_type": "display_data"
    },
    {
     "data": {
      "text/html": [
       "<pre style=\"white-space:pre;overflow-x:auto;line-height:normal;font-family:Menlo,'DejaVu Sans Mono',consolas,'Courier New',monospace\"><span style=\"font-weight: bold\"> Optimizer params: </span><span style=\"color: #00af00; text-decoration-color: #00af00\">176,136</span> (688.04 KB)\n",
       "</pre>\n"
      ],
      "text/plain": [
       "\u001b[1m Optimizer params: \u001b[0m\u001b[38;5;34m176,136\u001b[0m (688.04 KB)\n"
      ]
     },
     "metadata": {},
     "output_type": "display_data"
    }
   ],
   "source": [
    "# Save the entire model, including architecture, weights, and training configuration to file\n",
    "# https://www.tensorflow.org/tutorials/keras/save_and_load#save_the_entire_model\n",
    "\n",
    "# NOTE: WARNING this current placeholder implementation simply overwrites the model\n",
    "# TODO: actual implementation should probably save the model temporarily to disk before writing to SQLite DB\n",
    "\n",
    "# Construct file path from current directory\n",
    "model_file_path = os.path.join(os.getcwd(), \"model.keras\")\n",
    "\n",
    "# Save entire model to disk in the .keras format\n",
    "model.save(model_file_path)\n",
    "\n",
    "# Print model summary (because the table looks nice)\n",
    "model.summary()"
   ]
  }
 ],
 "metadata": {
  "kernelspec": {
   "display_name": "venv",
   "language": "python",
   "name": "python3"
  },
  "language_info": {
   "codemirror_mode": {
    "name": "ipython",
    "version": 3
   },
   "file_extension": ".py",
   "mimetype": "text/x-python",
   "name": "python",
   "nbconvert_exporter": "python",
   "pygments_lexer": "ipython3",
   "version": "3.11.10"
  }
 },
 "nbformat": 4,
 "nbformat_minor": 2
}
